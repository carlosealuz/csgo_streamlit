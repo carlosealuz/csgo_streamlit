{
 "cells": [
  {
   "cell_type": "code",
   "execution_count": 1,
   "metadata": {},
   "outputs": [],
   "source": [
    "import pandas as pd\n",
    "import requests\n",
    "from selenium import webdriver\n",
    "from selenium.webdriver.support.ui import WebDriverWait\n",
    "from selenium.webdriver.support import expected_conditions as EC\n",
    "from selenium.webdriver.common.by import By\n",
    "from tqdm import tqdm"
   ]
  },
  {
   "cell_type": "code",
   "execution_count": 10,
   "metadata": {},
   "outputs": [],
   "source": [
    "map_name_mapper = {'ifn': 'inferno',\n",
    "                   'ovp': 'overpass',\n",
    "                   'mrg': 'mirage',\n",
    "                   'nuk': 'nuke',\n",
    "                   'd2': 'dust 2'}"
   ]
  },
  {
   "cell_type": "code",
   "execution_count": 11,
   "metadata": {},
   "outputs": [
    {
     "data": {
      "text/plain": [
       "(83, 10)"
      ]
     },
     "execution_count": 11,
     "metadata": {},
     "output_type": "execute_result"
    }
   ],
   "source": [
    "txt_cols = ['result', 'map', 'score', 'pct_win', 'CT', 'game_id']\n",
    "df = pd.read_csv('../data/jogos.txt', sep='\\t', header=None)\n",
    "df[11].fillna(df[9], inplace=True)\n",
    "df.dropna(axis=1, inplace=True) # remove empty cols\n",
    "df.columns = txt_cols\n",
    "df['map'] = df['map'].map(map_name_mapper) # rename map names\n",
    "df['game_id'] = df['game_id'].astype(int)\n",
    "df['game_url'] = df['game_id'].apply(lambda x: f'https://gamersclub.com.br/lobby/match/{x}')\n",
    "df['team_score'] = df['score'].apply(lambda x: x.split('x')[0]).astype(int)\n",
    "df['foe_score'] = df['score'].apply(lambda x: x.split('x')[1]).astype(int)\n",
    "df['score_diff'] = df['team_score'] - df['foe_score']\n",
    "df.drop_duplicates('game_id', inplace=True)\n",
    "df2 = df.copy()\n",
    "df.shape"
   ]
  },
  {
   "cell_type": "code",
   "execution_count": 4,
   "metadata": {},
   "outputs": [
    {
     "name": "stderr",
     "output_type": "stream",
     "text": [
      "C:\\Users\\Carlos\\AppData\\Local\\Temp\\ipykernel_14152\\2201716512.py:3: DeprecationWarning: executable_path has been deprecated, please pass in a Service object\n",
      "  navegador = webdriver.Edge(executable_path='../webdriver/msedgedriver.exe', options=options)\n",
      "100%|██████████| 83/83 [08:44<00:00,  6.32s/it]\n"
     ]
    }
   ],
   "source": [
    "options = webdriver.EdgeOptions()\n",
    "options.add_argument(\"--headless\")\n",
    "navegador = webdriver.Edge(executable_path='../webdriver/msedgedriver.exe', options=options)\n",
    "urls = df['game_url'].tolist()\n",
    "games_data = pd.DataFrame(columns=['NAME', 'K', 'A', 'D', 'DIFF', 'ADR', 'KDR', 'KAST', \n",
    "                                    'S', 'T', 'FA', '1VSX', 'MK', 'FK', 'RP', 'GAME_ID'])\n",
    "for url in tqdm(urls):\n",
    "    navegador.get(url)\n",
    "    myElem = WebDriverWait(navegador, 5).until(EC.presence_of_element_located((By.XPATH, '/html/body/div[2]/div[9]/div/div/section/div[3]/div/div[2]')))\n",
    "    match_info = navegador.find_elements(By.XPATH, '/html/body/div[2]/div[9]/div/div/section/div[3]/div/div[2]')\n",
    "    match_data = []\n",
    "    for info in match_info:\n",
    "        info_ = info.text.split('\\n')\n",
    "        date = info_[1]\n",
    "        duration = info_[3]\n",
    "        id = int(info_[5])\n",
    "        map = info_[7]\n",
    "        match_data.extend([date, id, duration, map])\n",
    "\n",
    "    cols = ['NAME', 'K', 'A', 'D', 'DIFF', 'ADR', 'KDR', 'KAST', \n",
    "        'S', 'T', 'FA', '1VSX', 'MK', 'FK', 'RP']\n",
    "    match_table = navegador.find_elements(By.CLASS_NAME, 'tableMatch')\n",
    "    start = 0\n",
    "    table_data = []\n",
    "    for players_stats in match_table:\n",
    "        for tr in players_stats.find_elements(By.CLASS_NAME, 'tableMatch__container'):\n",
    "            tds = tr.find_elements(By.TAG_NAME, 'td')\n",
    "            output_lst = [td.text for td in tds]\n",
    "            output_lst = list(filter(None, output_lst))\n",
    "            output_lst = [output_lst[i:i+15] for i in range(0, len(output_lst), 15)]\n",
    "            table_data.extend(output_lst)\n",
    "\n",
    "    stats_df = pd.DataFrame(table_data, columns=cols)\n",
    "    stats_df['GAME_ID'] = match_data[1]\n",
    "    stats_df['GAME_DATE'] = match_data[0]\n",
    "    stats_df['NAME'] = stats_df['NAME'].apply(lambda x: x.split('\\n')[0])\n",
    "    games_data = pd.concat([games_data, stats_df], ignore_index=True)\n",
    "\n",
    "games_data['KAST'] = round(games_data['KAST'].str.replace('%', '').astype(int)/100, 2)\n"
   ]
  },
  {
   "cell_type": "code",
   "execution_count": 12,
   "metadata": {},
   "outputs": [],
   "source": [
    "games_data['GAME_ID'] = games_data['GAME_ID'].astype(int)\n",
    "df3 = df2.merge(games_data[['GAME_ID', 'GAME_DATE']], left_on='game_id', right_on='GAME_ID')\n",
    "df3.drop('GAME_ID', axis=1, inplace=True)\n",
    "df3.drop_duplicates(inplace=True)"
   ]
  },
  {
   "cell_type": "code",
   "execution_count": 13,
   "metadata": {},
   "outputs": [
    {
     "data": {
      "text/plain": [
       "(83, 11)"
      ]
     },
     "execution_count": 13,
     "metadata": {},
     "output_type": "execute_result"
    }
   ],
   "source": [
    "df3.shape"
   ]
  },
  {
   "cell_type": "code",
   "execution_count": 15,
   "metadata": {},
   "outputs": [
    {
     "data": {
      "text/plain": [
       "['inferno', 'overpass', 'mirage', 'nuke', 'dust 2']"
      ]
     },
     "execution_count": 15,
     "metadata": {},
     "output_type": "execute_result"
    }
   ],
   "source": [
    "df3['map'].unique().tolist()"
   ]
  },
  {
   "cell_type": "code",
   "execution_count": 16,
   "metadata": {},
   "outputs": [],
   "source": [
    "games_data.to_csv('../data/data_scrapped.csv')\n",
    "df3.to_csv('../data/games_clean.csv')"
   ]
  }
 ],
 "metadata": {
  "interpreter": {
   "hash": "657b5fc022a0759349d2c6ef8fa772acc6062b56dcfcdd329d61b5fe227d50aa"
  },
  "kernelspec": {
   "display_name": "Python 3.9.7 ('csgo')",
   "language": "python",
   "name": "python3"
  },
  "language_info": {
   "codemirror_mode": {
    "name": "ipython",
    "version": 3
   },
   "file_extension": ".py",
   "mimetype": "text/x-python",
   "name": "python",
   "nbconvert_exporter": "python",
   "pygments_lexer": "ipython3",
   "version": "3.9.7"
  },
  "orig_nbformat": 4
 },
 "nbformat": 4,
 "nbformat_minor": 2
}
